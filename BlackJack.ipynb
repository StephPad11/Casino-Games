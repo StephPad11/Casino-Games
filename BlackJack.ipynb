{
 "cells": [
  {
   "cell_type": "markdown",
   "metadata": {},
   "source": [
    "First Casino game will be BlackJack. "
   ]
  },
  {
   "cell_type": "markdown",
   "metadata": {},
   "source": [
    "Defining the class and the attributes that will be necessary to a smooth game function."
   ]
  },
  {
   "cell_type": "code",
   "execution_count": 1,
   "metadata": {},
   "outputs": [],
   "source": [
    "import random\n",
    "\n",
    "class BlackJack:\n",
    "    def __init__(self, num_players, table_minimum, player_balance):\n",
    "        self.num_players = num_players\n",
    "        self.num_deck = 8\n",
    "        self.player_hands = [[] for _ in range(num_players)]\n",
    "        self.dealer_hand = []\n",
    "        self.table_minimum = table_minimum\n",
    "        self.player_balance = player_balance\n",
    "        self.pot = 0\n",
    "        self.dealer_shows = None\n",
    "        self.player_status = [True] * num_players\n",
    "        self.deal_occurred = False\n",
    "        self.percent_filled = 1.0  # Starting with a full shoe\n",
    "\n",
    "\n",
    "# Simulating a casino style shuffle and game of blackjack.\n",
    "    def fill_shoe(self):  \n",
    "        # Defining my deck\n",
    "        suits = ['Hearts', 'Diamonds', 'Clubs', 'Spades']\n",
    "        ranks = ['2', '3', '4', '5', '6', '7', '8', '9', '10', 'J', 'Q', 'K', 'A']\n",
    "        \n",
    "        # Creating a single deck\n",
    "        deck = [(rank, suit) for suit in suits for rank in ranks]\n",
    "        \n",
    "        # Creating the shoe and shuffling it\n",
    "        shoe = deck * self.num_deck\n",
    "        random.shuffle(shoe)\n",
    "        \n",
    "        return shoe\n",
    "\n",
    "\n",
    "# Handling the intial betting of a blackjack game, that occurs prior to cards being dealt\n",
    "    def initial_bet(self): \n",
    "        for i in range(self.num_players):\n",
    "            while True:\n",
    "                bet = int(input(f'Player {i+1}, place your bet (min bet: {self.table_minimum}): '))\n",
    "                if bet >= self.table_minimum:\n",
    "                    self.pot += bet\n",
    "                    self.player_balance -= bet\n",
    "                    break\n",
    "                else:\n",
    "                    print(f'Bet must be at least {self.table_minimum}. Please try again.')\n",
    "\n",
    "\n",
    "# Simulating a casino style round robin deal where players see each other's cards and only 1 of the dealer's cards.\n",
    "    def deal(self): \n",
    "        # Deal one card to each player, and one to the dealer (these are all visible to players)\n",
    "        for player_hand in self.player_hands:\n",
    "            player_hand.append(self.shoe.pop())\n",
    "        self.dealer_hand.append(self.shoe.pop())\n",
    "        self.dealer_shows = self.dealer_hand[0]  # The dealer's visible card\n",
    "\n",
    "        # Deal a second card to each player and one to dealer (dealer's second card remains hidden)\n",
    "        for player_hand in self.player_hands:\n",
    "            player_hand.append(self.shoe.pop())\n",
    "        self.dealer_hand.append(self.shoe.pop()) # Second card remains hidden for dealer\n",
    "\n",
    "        self.deal_occurred = True\n",
    "\n",
    "        # Tracking the percentage of cards remaining in the shoe\n",
    "        max_num_cards = 52 * self.num_deck\n",
    "        remaining_cards = len(self.shoe)\n",
    "        self.percent_filled = remaining_cards / max_num_cards\n",
    "\n",
    "        if self.percent_filled < 0.2:\n",
    "            print(\"Shoe is low on cards, it will be refilled after this round.\")\n",
    "\n",
    "\n",
    "# Refilling the shoe after enough cards have been dealt.\n",
    "    def refill_shoe(self):\n",
    "        self.shoe = self.fill_shoe()\n",
    "        self.percent_filled = 1.0"
   ]
  },
  {
   "cell_type": "markdown",
   "metadata": {},
   "source": []
  },
  {
   "cell_type": "code",
   "execution_count": null,
   "metadata": {},
   "outputs": [],
   "source": [
    "\n",
    "\n",
    "\n",
    "def place_bets(self):\n",
    "    self.pot = 0\n",
    "    for player in range(1, self.num_players + 1):\n",
    "        if self.player_status[player] == True and self.deal_occurred == False:\n",
    "            bet = int(input(f'Player {player + 1}, place your bet: '))\n",
    "            self.pot += bet\n",
    "        else:\n",
    "            pass\n"
   ]
  }
 ],
 "metadata": {
  "kernelspec": {
   "display_name": "base",
   "language": "python",
   "name": "python3"
  },
  "language_info": {
   "codemirror_mode": {
    "name": "ipython",
    "version": 3
   },
   "file_extension": ".py",
   "mimetype": "text/x-python",
   "name": "python",
   "nbconvert_exporter": "python",
   "pygments_lexer": "ipython3",
   "version": "3.10.9"
  }
 },
 "nbformat": 4,
 "nbformat_minor": 2
}
